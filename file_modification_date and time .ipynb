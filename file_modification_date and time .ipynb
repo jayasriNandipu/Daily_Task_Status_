{
 "cells": [
  {
   "cell_type": "code",
   "execution_count": 3,
   "id": "8c80eba3-d9c3-4839-8ace-ff140830510f",
   "metadata": {},
   "outputs": [
    {
     "data": {
      "text/html": [
       "<div>\n",
       "<style scoped>\n",
       "    .dataframe tbody tr th:only-of-type {\n",
       "        vertical-align: middle;\n",
       "    }\n",
       "\n",
       "    .dataframe tbody tr th {\n",
       "        vertical-align: top;\n",
       "    }\n",
       "\n",
       "    .dataframe thead th {\n",
       "        text-align: right;\n",
       "    }\n",
       "</style>\n",
       "<table border=\"1\" class=\"dataframe\">\n",
       "  <thead>\n",
       "    <tr style=\"text-align: right;\">\n",
       "      <th></th>\n",
       "      <th>friend_names</th>\n",
       "      <th>Quality</th>\n",
       "    </tr>\n",
       "  </thead>\n",
       "  <tbody>\n",
       "    <tr>\n",
       "      <th>0</th>\n",
       "      <td>Mounika</td>\n",
       "      <td>intelligent</td>\n",
       "    </tr>\n",
       "    <tr>\n",
       "      <th>1</th>\n",
       "      <td>Santhosh</td>\n",
       "      <td>intelligent</td>\n",
       "    </tr>\n",
       "    <tr>\n",
       "      <th>2</th>\n",
       "      <td>nasheena</td>\n",
       "      <td>brave</td>\n",
       "    </tr>\n",
       "    <tr>\n",
       "      <th>3</th>\n",
       "      <td>swathi</td>\n",
       "      <td>good</td>\n",
       "    </tr>\n",
       "    <tr>\n",
       "      <th>4</th>\n",
       "      <td>durga</td>\n",
       "      <td>intelligent</td>\n",
       "    </tr>\n",
       "    <tr>\n",
       "      <th>5</th>\n",
       "      <td>Swapna</td>\n",
       "      <td>clever</td>\n",
       "    </tr>\n",
       "  </tbody>\n",
       "</table>\n",
       "</div>"
      ],
      "text/plain": [
       "  friend_names      Quality\n",
       "0      Mounika  intelligent\n",
       "1     Santhosh  intelligent\n",
       "2     nasheena        brave\n",
       "3       swathi         good\n",
       "4        durga  intelligent\n",
       "5       Swapna       clever"
      ]
     },
     "execution_count": 3,
     "metadata": {},
     "output_type": "execute_result"
    }
   ],
   "source": [
    "import pandas as pd\n",
    "df=pd.read_csv(r\"C:\\jaya sri\\Assignments\\8\\friend_names,Quality.txt\")\n",
    "df"
   ]
  },
  {
   "cell_type": "code",
   "execution_count": 7,
   "id": "1f06f58d-d058-4a2b-89ba-212d673bb28f",
   "metadata": {},
   "outputs": [
    {
     "name": "stdout",
     "output_type": "stream",
     "text": [
      "The file located at the path C:\\jaya sri\\Assignments\\8\\friend_names,Quality.txt was created at Thu Jul 18 16:24:45 2024 and was last modified at Thu Jul 18 16:24:46 2024\n"
     ]
    }
   ],
   "source": [
    "import os\n",
    "import time\n",
    "\n",
    "# Path to the file/directory\n",
    "path = r\"C:\\jaya sri\\Assignments\\8\\friend_names,Quality.txt\"\n",
    "\n",
    "# Both the variables would contain time\n",
    "# elapsed since EPOCH in float\n",
    "ti_c = os.path.getctime(path)\n",
    "ti_m = os.path.getmtime(path)\n",
    "\n",
    "# Converting the time in seconds to a timestamp\n",
    "c_ti = time.ctime(ti_c)\n",
    "m_ti = time.ctime(ti_m)\n",
    "\n",
    "print(f\"The file located at the path {path} \\\n",
    "was created at {c_ti} and was \"\n",
    "      f\"last modified at {m_ti}\")"
   ]
  },
  {
   "cell_type": "code",
   "execution_count": null,
   "id": "3aecc151-cb2e-45a7-81fe-693d5b2b1100",
   "metadata": {},
   "outputs": [],
   "source": []
  },
  {
   "cell_type": "code",
   "execution_count": null,
   "id": "9d6a0202-c0e5-4d87-a45c-27a26e03006a",
   "metadata": {},
   "outputs": [],
   "source": []
  },
  {
   "cell_type": "code",
   "execution_count": null,
   "id": "fa2a2332-92a1-4ac2-be16-420c52a673be",
   "metadata": {},
   "outputs": [],
   "source": []
  },
  {
   "cell_type": "code",
   "execution_count": 9,
   "id": "dcd46772-ff0e-46a7-9f23-a00de56fcb22",
   "metadata": {},
   "outputs": [
    {
     "name": "stdout",
     "output_type": "stream",
     "text": [
      "The file located at the path C:\\jaya sri\\Assignments\\8\\friend_names,Quality.txt was created at Thu Jul 18 16:24:45 2024 and was last modified at Tue Jan 14 16:10:42 2025\n"
     ]
    }
   ],
   "source": [
    "import os\n",
    "import time\n",
    "\n",
    "# Path to the file/directory\n",
    "path = r\"C:\\jaya sri\\Assignments\\8\\friend_names,Quality.txt\"\n",
    "\n",
    "# Both the variables would contain time\n",
    "# elapsed since EPOCH in float\n",
    "ti_c = os.path.getctime(path)\n",
    "ti_m = os.path.getmtime(path)\n",
    "\n",
    "# Converting the time in seconds to a timestamp\n",
    "c_ti = time.ctime(ti_c)\n",
    "m_ti = time.ctime(ti_m)\n",
    "\n",
    "print(f\"The file located at the path {path} \\\n",
    "was created at {c_ti} and was \"\n",
    "      f\"last modified at {m_ti}\")"
   ]
  },
  {
   "cell_type": "code",
   "execution_count": null,
   "id": "109c22c3-3799-4884-a72d-32fbda9682d5",
   "metadata": {},
   "outputs": [],
   "source": []
  },
  {
   "cell_type": "code",
   "execution_count": 11,
   "id": "d716a7cb-7653-41a1-ab73-daa1998eec56",
   "metadata": {},
   "outputs": [
    {
     "data": {
      "text/html": [
       "<div>\n",
       "<style scoped>\n",
       "    .dataframe tbody tr th:only-of-type {\n",
       "        vertical-align: middle;\n",
       "    }\n",
       "\n",
       "    .dataframe tbody tr th {\n",
       "        vertical-align: top;\n",
       "    }\n",
       "\n",
       "    .dataframe thead th {\n",
       "        text-align: right;\n",
       "    }\n",
       "</style>\n",
       "<table border=\"1\" class=\"dataframe\">\n",
       "  <thead>\n",
       "    <tr style=\"text-align: right;\">\n",
       "      <th></th>\n",
       "      <th>friend_names</th>\n",
       "      <th>Quality</th>\n",
       "    </tr>\n",
       "  </thead>\n",
       "  <tbody>\n",
       "    <tr>\n",
       "      <th>0</th>\n",
       "      <td>Mounika</td>\n",
       "      <td>intelligent</td>\n",
       "    </tr>\n",
       "    <tr>\n",
       "      <th>1</th>\n",
       "      <td>Santhosh</td>\n",
       "      <td>intelligent</td>\n",
       "    </tr>\n",
       "    <tr>\n",
       "      <th>2</th>\n",
       "      <td>nasheena</td>\n",
       "      <td>brave</td>\n",
       "    </tr>\n",
       "    <tr>\n",
       "      <th>3</th>\n",
       "      <td>swathi</td>\n",
       "      <td>good</td>\n",
       "    </tr>\n",
       "    <tr>\n",
       "      <th>4</th>\n",
       "      <td>durga</td>\n",
       "      <td>intelligent</td>\n",
       "    </tr>\n",
       "    <tr>\n",
       "      <th>5</th>\n",
       "      <td>Swapna</td>\n",
       "      <td>clever</td>\n",
       "    </tr>\n",
       "    <tr>\n",
       "      <th>6</th>\n",
       "      <td>karthi</td>\n",
       "      <td>karthi</td>\n",
       "    </tr>\n",
       "    <tr>\n",
       "      <th>7</th>\n",
       "      <td>param</td>\n",
       "      <td>param</td>\n",
       "    </tr>\n",
       "  </tbody>\n",
       "</table>\n",
       "</div>"
      ],
      "text/plain": [
       "  friend_names      Quality\n",
       "0      Mounika  intelligent\n",
       "1     Santhosh  intelligent\n",
       "2     nasheena        brave\n",
       "3       swathi         good\n",
       "4        durga  intelligent\n",
       "5       Swapna       clever\n",
       "6       karthi       karthi\n",
       "7        param        param"
      ]
     },
     "execution_count": 11,
     "metadata": {},
     "output_type": "execute_result"
    }
   ],
   "source": [
    "import pandas as pd\n",
    "df_v1=pd.read_csv(r\"C:\\jaya sri\\Assignments\\8\\friend_names,Quality.txt\")\n",
    "df"
   ]
  },
  {
   "cell_type": "code",
   "execution_count": null,
   "id": "ca122680-91ff-44fb-95bc-71f2d36851d0",
   "metadata": {},
   "outputs": [],
   "source": []
  },
  {
   "cell_type": "code",
   "execution_count": null,
   "id": "b71583bd-f763-46d6-b5ca-e873938645e7",
   "metadata": {},
   "outputs": [],
   "source": []
  },
  {
   "cell_type": "code",
   "execution_count": null,
   "id": "f63be550-94f0-4890-b369-fc011d907d7c",
   "metadata": {},
   "outputs": [],
   "source": []
  },
  {
   "cell_type": "code",
   "execution_count": null,
   "id": "a52b807d-e273-47d4-84c6-c5fd10c70351",
   "metadata": {},
   "outputs": [],
   "source": []
  },
  {
   "cell_type": "code",
   "execution_count": null,
   "id": "ef906e07-4ec1-4e66-9f13-5e4ba6a410a8",
   "metadata": {},
   "outputs": [],
   "source": []
  },
  {
   "cell_type": "code",
   "execution_count": null,
   "id": "369db3b9-9987-4045-8963-8ced46e2b9b8",
   "metadata": {},
   "outputs": [],
   "source": []
  },
  {
   "cell_type": "code",
   "execution_count": null,
   "id": "e3ed122b-899d-4885-a747-9e37c26d8baa",
   "metadata": {},
   "outputs": [],
   "source": []
  }
 ],
 "metadata": {
  "kernelspec": {
   "display_name": "Python 3 (ipykernel)",
   "language": "python",
   "name": "python3"
  },
  "language_info": {
   "codemirror_mode": {
    "name": "ipython",
    "version": 3
   },
   "file_extension": ".py",
   "mimetype": "text/x-python",
   "name": "python",
   "nbconvert_exporter": "python",
   "pygments_lexer": "ipython3",
   "version": "3.12.4"
  }
 },
 "nbformat": 4,
 "nbformat_minor": 5
}
