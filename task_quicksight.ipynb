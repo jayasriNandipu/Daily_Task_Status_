{
 "cells": [
  {
   "cell_type": "code",
   "execution_count": 5,
   "id": "35aceeef-a470-49fa-91ad-79eb9bf04a82",
   "metadata": {},
   "outputs": [
    {
     "data": {
      "text/html": [
       "<div>\n",
       "<style scoped>\n",
       "    .dataframe tbody tr th:only-of-type {\n",
       "        vertical-align: middle;\n",
       "    }\n",
       "\n",
       "    .dataframe tbody tr th {\n",
       "        vertical-align: top;\n",
       "    }\n",
       "\n",
       "    .dataframe thead th {\n",
       "        text-align: right;\n",
       "    }\n",
       "</style>\n",
       "<table border=\"1\" class=\"dataframe\">\n",
       "  <thead>\n",
       "    <tr style=\"text-align: right;\">\n",
       "      <th></th>\n",
       "      <th>vegfood</th>\n",
       "      <th>taste</th>\n",
       "    </tr>\n",
       "  </thead>\n",
       "  <tbody>\n",
       "    <tr>\n",
       "      <th>0</th>\n",
       "      <td>paneer</td>\n",
       "      <td>curry</td>\n",
       "    </tr>\n",
       "    <tr>\n",
       "      <th>1</th>\n",
       "      <td>aloo</td>\n",
       "      <td>fry</td>\n",
       "    </tr>\n",
       "    <tr>\n",
       "      <th>2</th>\n",
       "      <td>babycorn</td>\n",
       "      <td>fry</td>\n",
       "    </tr>\n",
       "    <tr>\n",
       "      <th>3</th>\n",
       "      <td>vegpulav</td>\n",
       "      <td>fry</td>\n",
       "    </tr>\n",
       "    <tr>\n",
       "      <th>4</th>\n",
       "      <td>gobimasala</td>\n",
       "      <td>curry</td>\n",
       "    </tr>\n",
       "    <tr>\n",
       "      <th>5</th>\n",
       "      <td>paneermasala</td>\n",
       "      <td>soup</td>\n",
       "    </tr>\n",
       "    <tr>\n",
       "      <th>6</th>\n",
       "      <td>mealmaker</td>\n",
       "      <td>soup</td>\n",
       "    </tr>\n",
       "  </tbody>\n",
       "</table>\n",
       "</div>"
      ],
      "text/plain": [
       "        vegfood  taste\n",
       "0        paneer  curry\n",
       "1          aloo    fry\n",
       "2      babycorn    fry\n",
       "3      vegpulav    fry\n",
       "4    gobimasala  curry\n",
       "5  paneermasala   soup\n",
       "6     mealmaker   soup"
      ]
     },
     "execution_count": 5,
     "metadata": {},
     "output_type": "execute_result"
    }
   ],
   "source": [
    "import pandas as pd\n",
    "df=pd.read_excel(r\"D:\\jaya sri\\Assignments\\Jayasri\\pandas_assign10\\vegfoodtaste.xlsx\")\n",
    "df"
   ]
  },
  {
   "cell_type": "code",
   "execution_count": 13,
   "id": "69aead45-fb2b-42a7-9d83-31e900ab91a3",
   "metadata": {},
   "outputs": [
    {
     "name": "stdout",
     "output_type": "stream",
     "text": [
      "14 :59 :02\n"
     ]
    }
   ],
   "source": [
    "import time\n",
    "now=time.localtime()\n",
    "t=time.strftime(\"%H :%M :%S\",now)\n",
    "print(t)"
   ]
  },
  {
   "cell_type": "code",
   "execution_count": 15,
   "id": "58858824-ab8a-4cee-bde3-72dde2c8b814",
   "metadata": {},
   "outputs": [
    {
     "name": "stdout",
     "output_type": "stream",
     "text": [
      "today= 2025-01-14\n"
     ]
    }
   ],
   "source": [
    "from datetime import date\n",
    "today=date.today()\n",
    "print(\"today=\",today)\n",
    "date=today"
   ]
  },
  {
   "cell_type": "code",
   "execution_count": 17,
   "id": "a968638b-ac8e-4a4c-8e0a-39393e4c3dd7",
   "metadata": {},
   "outputs": [],
   "source": [
    "file_name = \"vegfoodtaste\"\n",
    "\n",
    "# Get current date and time\n",
    "current_date_time = time.strftime(\"%Y-%m-%d_%H-%M-%S\")\n",
    "\n",
    "# Append date and time to file name\n",
    "new_file_name = f\"{file_name}_{current_date_time}.txt\"\n",
    "\n",
    "# Create a new file with the updated name\n",
    "with open(new_file_name, \"w\") as file:\n",
    "    file.write(\"Hello, World!\")\n"
   ]
  },
  {
   "cell_type": "code",
   "execution_count": 19,
   "id": "d2b1b9c2-a39f-4108-a5eb-92dbe3443887",
   "metadata": {},
   "outputs": [
    {
     "data": {
      "text/plain": [
       "'vegfoodtaste_2025-01-14_14-59-17.txt'"
      ]
     },
     "execution_count": 19,
     "metadata": {},
     "output_type": "execute_result"
    }
   ],
   "source": [
    "new_file_name"
   ]
  },
  {
   "cell_type": "code",
   "execution_count": 21,
   "id": "369070d3-b08b-4603-b80f-078d053cfa30",
   "metadata": {},
   "outputs": [
    {
     "data": {
      "text/html": [
       "<div>\n",
       "<style scoped>\n",
       "    .dataframe tbody tr th:only-of-type {\n",
       "        vertical-align: middle;\n",
       "    }\n",
       "\n",
       "    .dataframe tbody tr th {\n",
       "        vertical-align: top;\n",
       "    }\n",
       "\n",
       "    .dataframe thead th {\n",
       "        text-align: right;\n",
       "    }\n",
       "</style>\n",
       "<table border=\"1\" class=\"dataframe\">\n",
       "  <thead>\n",
       "    <tr style=\"text-align: right;\">\n",
       "      <th></th>\n",
       "      <th>vegfood</th>\n",
       "      <th>taste</th>\n",
       "    </tr>\n",
       "  </thead>\n",
       "  <tbody>\n",
       "    <tr>\n",
       "      <th>0</th>\n",
       "      <td>paneer</td>\n",
       "      <td>curry</td>\n",
       "    </tr>\n",
       "    <tr>\n",
       "      <th>1</th>\n",
       "      <td>aloo</td>\n",
       "      <td>fry</td>\n",
       "    </tr>\n",
       "    <tr>\n",
       "      <th>2</th>\n",
       "      <td>babycorn</td>\n",
       "      <td>fry</td>\n",
       "    </tr>\n",
       "    <tr>\n",
       "      <th>3</th>\n",
       "      <td>vegpulav</td>\n",
       "      <td>fry</td>\n",
       "    </tr>\n",
       "    <tr>\n",
       "      <th>4</th>\n",
       "      <td>gobimasala</td>\n",
       "      <td>curry</td>\n",
       "    </tr>\n",
       "    <tr>\n",
       "      <th>5</th>\n",
       "      <td>paneermasala</td>\n",
       "      <td>soup</td>\n",
       "    </tr>\n",
       "    <tr>\n",
       "      <th>6</th>\n",
       "      <td>mealmaker</td>\n",
       "      <td>soup</td>\n",
       "    </tr>\n",
       "    <tr>\n",
       "      <th>7</th>\n",
       "      <td>mallika</td>\n",
       "      <td>NaN</td>\n",
       "    </tr>\n",
       "    <tr>\n",
       "      <th>8</th>\n",
       "      <td>swathi</td>\n",
       "      <td>NaN</td>\n",
       "    </tr>\n",
       "    <tr>\n",
       "      <th>9</th>\n",
       "      <td>prasanna</td>\n",
       "      <td>NaN</td>\n",
       "    </tr>\n",
       "  </tbody>\n",
       "</table>\n",
       "</div>"
      ],
      "text/plain": [
       "        vegfood  taste\n",
       "0        paneer  curry\n",
       "1          aloo    fry\n",
       "2      babycorn    fry\n",
       "3      vegpulav    fry\n",
       "4    gobimasala  curry\n",
       "5  paneermasala   soup\n",
       "6     mealmaker   soup\n",
       "7      mallika     NaN\n",
       "8        swathi    NaN\n",
       "9      prasanna    NaN"
      ]
     },
     "execution_count": 21,
     "metadata": {},
     "output_type": "execute_result"
    }
   ],
   "source": [
    "import pandas as pd\n",
    "df=pd.read_excel(r\"D:\\jaya sri\\Assignments\\Jayasri\\pandas_assign10\\vegfoodtaste.xlsx\")\n",
    "df"
   ]
  },
  {
   "cell_type": "code",
   "execution_count": 23,
   "id": "ce65adee-83ab-44de-89f1-a70238ed2d04",
   "metadata": {},
   "outputs": [],
   "source": [
    "file_name = \"vegfoodtaste\"\n",
    "\n",
    "# Get current date and time\n",
    "current_date_time = time.strftime(\"%Y-%m-%d_%H-%M-%S\")\n",
    "\n",
    "# Append date and time to file name\n",
    "new_file_name = f\"{file_name}_{current_date_time}.txt\"\n",
    "\n",
    "# Create a new file with the updated name\n",
    "with open(new_file_name, \"w\") as file:\n",
    "    file.write(\"Hello, World!\")"
   ]
  },
  {
   "cell_type": "code",
   "execution_count": 25,
   "id": "8adf33d1-2bd0-4ce9-aa7c-1e31577fd710",
   "metadata": {},
   "outputs": [
    {
     "data": {
      "text/plain": [
       "'vegfoodtaste_2025-01-14_15-01-05.txt'"
      ]
     },
     "execution_count": 25,
     "metadata": {},
     "output_type": "execute_result"
    }
   ],
   "source": [
    "new_file_name"
   ]
  },
  {
   "cell_type": "code",
   "execution_count": null,
   "id": "a742300e-4b29-4e1b-a0db-19d7ee64fb08",
   "metadata": {},
   "outputs": [],
   "source": []
  },
  {
   "cell_type": "code",
   "execution_count": null,
   "id": "6d67bbd0-ac0d-4852-b84c-60a469824f42",
   "metadata": {},
   "outputs": [],
   "source": []
  },
  {
   "cell_type": "code",
   "execution_count": null,
   "id": "c3b16137-edfb-434f-bd62-ac466a8aa962",
   "metadata": {},
   "outputs": [],
   "source": []
  },
  {
   "cell_type": "code",
   "execution_count": null,
   "id": "22f4fbeb-712c-4dfc-80e2-8d216a8edf5d",
   "metadata": {},
   "outputs": [],
   "source": []
  },
  {
   "cell_type": "code",
   "execution_count": null,
   "id": "81c7659b-7381-4836-9077-7920584c51f5",
   "metadata": {},
   "outputs": [],
   "source": []
  },
  {
   "cell_type": "code",
   "execution_count": null,
   "id": "e6298b0c-a404-4ea0-9276-57b37dbb8493",
   "metadata": {},
   "outputs": [],
   "source": []
  },
  {
   "cell_type": "code",
   "execution_count": 33,
   "id": "8ee3730d-559b-43da-a0ea-aed1199387be",
   "metadata": {},
   "outputs": [
    {
     "name": "stdout",
     "output_type": "stream",
     "text": [
      "File example.txt does not exist\n"
     ]
    }
   ],
   "source": [
    "\n",
    "import datetime\n",
    "import os\n",
    "\n",
    "# Variable file name\n",
    "file_name = \"example.txt\"\n",
    "\n",
    "# Get current date and time\n",
    "current_date_time = datetime.datetime.now().strftime(\"%Y-%m-%d_%H-%M-%S\")\n",
    "\n",
    "# Append date and time to file name\n",
    "new_file_name = f\"{file_name.split('.')[0]}_{current_date_time}.{file_name.split('.')[-1]}\"\n",
    "\n",
    "# ----------------------------------------------------\n",
    "# Check if file exists\n",
    "if os.path.exists(file_name):\n",
    "    # Rename the file with the updated name\n",
    "    os.rename(file_name, new_file_name)\n",
    "    print(f\"File renamed to {new_file_name}\")\n",
    "else:\n",
    "    print(f\"File {file_name} does not exist\")\n"
   ]
  },
  {
   "cell_type": "code",
   "execution_count": 35,
   "id": "280de697-75d3-465e-a996-0707cb9c3b4e",
   "metadata": {},
   "outputs": [
    {
     "data": {
      "text/html": [
       "<div>\n",
       "<style scoped>\n",
       "    .dataframe tbody tr th:only-of-type {\n",
       "        vertical-align: middle;\n",
       "    }\n",
       "\n",
       "    .dataframe tbody tr th {\n",
       "        vertical-align: top;\n",
       "    }\n",
       "\n",
       "    .dataframe thead th {\n",
       "        text-align: right;\n",
       "    }\n",
       "</style>\n",
       "<table border=\"1\" class=\"dataframe\">\n",
       "  <thead>\n",
       "    <tr style=\"text-align: right;\">\n",
       "      <th></th>\n",
       "      <th>friendname</th>\n",
       "      <th>quality</th>\n",
       "    </tr>\n",
       "  </thead>\n",
       "  <tbody>\n",
       "    <tr>\n",
       "      <th>0</th>\n",
       "      <td>Parvin</td>\n",
       "      <td>Intelligent</td>\n",
       "    </tr>\n",
       "    <tr>\n",
       "      <th>1</th>\n",
       "      <td>Nasheena</td>\n",
       "      <td>Intelligent</td>\n",
       "    </tr>\n",
       "    <tr>\n",
       "      <th>2</th>\n",
       "      <td>Hari</td>\n",
       "      <td>curious</td>\n",
       "    </tr>\n",
       "    <tr>\n",
       "      <th>3</th>\n",
       "      <td>varun</td>\n",
       "      <td>curious</td>\n",
       "    </tr>\n",
       "    <tr>\n",
       "      <th>4</th>\n",
       "      <td>harsha</td>\n",
       "      <td>anxuious</td>\n",
       "    </tr>\n",
       "    <tr>\n",
       "      <th>5</th>\n",
       "      <td>vamsi</td>\n",
       "      <td>happy</td>\n",
       "    </tr>\n",
       "    <tr>\n",
       "      <th>6</th>\n",
       "      <td>zaheer</td>\n",
       "      <td>hacker</td>\n",
       "    </tr>\n",
       "    <tr>\n",
       "      <th>7</th>\n",
       "      <td>zakir</td>\n",
       "      <td>skater</td>\n",
       "    </tr>\n",
       "    <tr>\n",
       "      <th>8</th>\n",
       "      <td>santhosh</td>\n",
       "      <td>happy</td>\n",
       "    </tr>\n",
       "    <tr>\n",
       "      <th>9</th>\n",
       "      <td>vamsi</td>\n",
       "      <td>hacker</td>\n",
       "    </tr>\n",
       "    <tr>\n",
       "      <th>10</th>\n",
       "      <td>Veera brahmam</td>\n",
       "      <td>Father</td>\n",
       "    </tr>\n",
       "    <tr>\n",
       "      <th>11</th>\n",
       "      <td>Ratnakumari</td>\n",
       "      <td>Mother</td>\n",
       "    </tr>\n",
       "    <tr>\n",
       "      <th>12</th>\n",
       "      <td>sravanthi</td>\n",
       "      <td>sister</td>\n",
       "    </tr>\n",
       "    <tr>\n",
       "      <th>13</th>\n",
       "      <td>hari</td>\n",
       "      <td>brother</td>\n",
       "    </tr>\n",
       "    <tr>\n",
       "      <th>14</th>\n",
       "      <td>sravani</td>\n",
       "      <td>sister</td>\n",
       "    </tr>\n",
       "    <tr>\n",
       "      <th>15</th>\n",
       "      <td>harsha</td>\n",
       "      <td>brother</td>\n",
       "    </tr>\n",
       "    <tr>\n",
       "      <th>16</th>\n",
       "      <td>supraja</td>\n",
       "      <td>sister</td>\n",
       "    </tr>\n",
       "  </tbody>\n",
       "</table>\n",
       "</div>"
      ],
      "text/plain": [
       "       friendname      quality\n",
       "0          Parvin  Intelligent\n",
       "1        Nasheena  Intelligent\n",
       "2            Hari      curious\n",
       "3           varun      curious\n",
       "4          harsha     anxuious\n",
       "5           vamsi        happy\n",
       "6          zaheer       hacker\n",
       "7           zakir       skater\n",
       "8        santhosh        happy\n",
       "9           vamsi       hacker\n",
       "10  Veera brahmam       Father\n",
       "11    Ratnakumari       Mother\n",
       "12      sravanthi       sister\n",
       "13           hari      brother\n",
       "14        sravani       sister\n",
       "15         harsha      brother\n",
       "16        supraja       sister"
      ]
     },
     "execution_count": 35,
     "metadata": {},
     "output_type": "execute_result"
    }
   ],
   "source": [
    "import pandas as pd\n",
    "df_f=pd.read_excel(r\"C:\\jaya sri\\Assignments\\Jayasri\\pandas_assign10\\Friendsquality.xlsx\")\n",
    "df_f"
   ]
  },
  {
   "cell_type": "code",
   "execution_count": 45,
   "id": "bfc4dd08-b70a-4e0f-b5ac-ddabb4056fed",
   "metadata": {},
   "outputs": [],
   "source": [
    "\n",
    "import datetime\n",
    "import os\n",
    "\n",
    "# Variable file name\n",
    "file_name = \"Friendsquality.txt\"\n",
    "\n",
    "# Get current date and time\n",
    "current_date_time = datetime.datetime.now().strftime(\"%Y-%m-%d_%H-%M-%S\")\n",
    "\n",
    "# Append date and time to file name\n",
    "new_file_name = f\"{file_name.split('.')[0]}_{current_date_time}.{file_name.split('.')[-1]}\"\n",
    "\n"
   ]
  },
  {
   "cell_type": "code",
   "execution_count": 47,
   "id": "cc2a94fd-4b65-4ec0-b0ba-cf96bb97443f",
   "metadata": {},
   "outputs": [
    {
     "data": {
      "text/plain": [
       "'Friendsquality_2025-01-14_15-14-01.txt'"
      ]
     },
     "execution_count": 47,
     "metadata": {},
     "output_type": "execute_result"
    }
   ],
   "source": [
    "new_file_name"
   ]
  },
  {
   "cell_type": "code",
   "execution_count": null,
   "id": "859674a6-7f57-4134-a1f3-9a53cb58afd7",
   "metadata": {},
   "outputs": [],
   "source": [
    "# ----------------------------------------------------\n",
    "# Check if file exists\n",
    "if os.path.exists(file_name):\n",
    "    # Rename the file with the updated name\n",
    "    os.rename(Friendsquality, Friendsquality)\n",
    "    print(f\"File renamed to {Friendsquality}\")\n",
    "else:\n",
    "    print(f\"File {file_name}\")"
   ]
  },
  {
   "cell_type": "code",
   "execution_count": null,
   "id": "53c0eb31-3301-40c7-846a-fb3c6b1a5758",
   "metadata": {},
   "outputs": [],
   "source": []
  },
  {
   "cell_type": "code",
   "execution_count": null,
   "id": "d92a85b8-7970-484b-9190-3bd03df8d667",
   "metadata": {},
   "outputs": [],
   "source": []
  },
  {
   "cell_type": "code",
   "execution_count": null,
   "id": "c071cd15-ede0-4fde-a284-83edca7b74aa",
   "metadata": {},
   "outputs": [],
   "source": []
  },
  {
   "cell_type": "code",
   "execution_count": 61,
   "id": "fa643421-aa3c-4288-8c23-caeaa96fef23",
   "metadata": {},
   "outputs": [
    {
     "ename": "FileNotFoundError",
     "evalue": "[WinError 2] The system cannot find the file specified: 'vegfoodtaste.txt'",
     "output_type": "error",
     "traceback": [
      "\u001b[1;31m---------------------------------------------------------------------------\u001b[0m",
      "\u001b[1;31mFileNotFoundError\u001b[0m                         Traceback (most recent call last)",
      "Cell \u001b[1;32mIn[61], line 7\u001b[0m\n\u001b[0;32m      4\u001b[0m file_path \u001b[38;5;241m=\u001b[39m \u001b[38;5;124m'\u001b[39m\u001b[38;5;124mvegfoodtaste.txt\u001b[39m\u001b[38;5;124m'\u001b[39m\n\u001b[0;32m      6\u001b[0m \u001b[38;5;66;03m# Get the file creation time\u001b[39;00m\n\u001b[1;32m----> 7\u001b[0m creation_time \u001b[38;5;241m=\u001b[39m os\u001b[38;5;241m.\u001b[39mpath\u001b[38;5;241m.\u001b[39mgetctime(file_path)\n\u001b[0;32m      9\u001b[0m \u001b[38;5;66;03m# Convert the creation time to a human-readable format\u001b[39;00m\n\u001b[0;32m     10\u001b[0m \u001b[38;5;28;01mimport\u001b[39;00m \u001b[38;5;21;01mdatetime\u001b[39;00m\n",
      "File \u001b[1;32m<frozen genericpath>:77\u001b[0m, in \u001b[0;36mgetctime\u001b[1;34m(filename)\u001b[0m\n",
      "\u001b[1;31mFileNotFoundError\u001b[0m: [WinError 2] The system cannot find the file specified: 'vegfoodtaste.txt'"
     ]
    }
   ],
   "source": [
    "\n",
    "\n",
    "import os\n",
    "\n",
    "# Specify the file path\n",
    "file_path = 'vegfoodtaste.txt'\n",
    "\n",
    "# Get the file creation time\n",
    "creation_time = os.path.getctime(file_path)\n",
    "\n",
    "# Convert the creation time to a human-readable format\n",
    "import datetime\n",
    "creation_date_time = datetime.datetime.fromtimestamp(creation_time)\n",
    "\n",
    "# Print the creation date and time\n",
    "print(f\"File created on: {creation_date_time}\")\n"
   ]
  },
  {
   "cell_type": "code",
   "execution_count": null,
   "id": "2c475344-c2a4-4ed5-8233-4cc207378a07",
   "metadata": {},
   "outputs": [],
   "source": []
  },
  {
   "cell_type": "code",
   "execution_count": null,
   "id": "f94d28ea-7271-4326-b095-3120f1fbde90",
   "metadata": {},
   "outputs": [],
   "source": []
  },
  {
   "cell_type": "code",
   "execution_count": null,
   "id": "f5988667-662a-44ca-9933-f56b2ffc500e",
   "metadata": {},
   "outputs": [],
   "source": []
  },
  {
   "cell_type": "code",
   "execution_count": null,
   "id": "9483e865-12fa-4645-bef7-8837180db0b5",
   "metadata": {},
   "outputs": [],
   "source": []
  },
  {
   "cell_type": "code",
   "execution_count": null,
   "id": "d424c364-bb66-4539-8e1f-32768bde4f15",
   "metadata": {},
   "outputs": [],
   "source": []
  },
  {
   "cell_type": "code",
   "execution_count": null,
   "id": "202723a7-0575-4ba2-b697-34c2e8e1ab4e",
   "metadata": {},
   "outputs": [],
   "source": []
  },
  {
   "cell_type": "code",
   "execution_count": null,
   "id": "7c575ef4-6fac-4714-93fe-47af4c3b4b6a",
   "metadata": {},
   "outputs": [],
   "source": []
  },
  {
   "cell_type": "code",
   "execution_count": null,
   "id": "bcf20af3-0501-40c3-b5c8-e92b11c668f0",
   "metadata": {},
   "outputs": [],
   "source": []
  },
  {
   "cell_type": "code",
   "execution_count": null,
   "id": "99ca2459-4cae-409e-9d1e-cffe059798f6",
   "metadata": {},
   "outputs": [],
   "source": []
  },
  {
   "cell_type": "code",
   "execution_count": null,
   "id": "2884e2cc-dc0c-41dd-a0f9-75cc42b6787c",
   "metadata": {},
   "outputs": [],
   "source": []
  },
  {
   "cell_type": "code",
   "execution_count": null,
   "id": "61b0740e-4abe-4425-8d96-fcfbd1e795e1",
   "metadata": {},
   "outputs": [],
   "source": []
  },
  {
   "cell_type": "code",
   "execution_count": null,
   "id": "2d6a966d-a58f-4182-b0ba-8425b7307d01",
   "metadata": {},
   "outputs": [],
   "source": []
  },
  {
   "cell_type": "code",
   "execution_count": null,
   "id": "54aad1af-8c2f-42fa-a881-b1e0ee48fc41",
   "metadata": {},
   "outputs": [],
   "source": []
  },
  {
   "cell_type": "code",
   "execution_count": null,
   "id": "2d99a4e9-07fc-4e73-9587-468c3ec13ab8",
   "metadata": {},
   "outputs": [],
   "source": []
  },
  {
   "cell_type": "code",
   "execution_count": null,
   "id": "53bc49c4-4a26-4cf0-90f5-0e83c4ffe792",
   "metadata": {},
   "outputs": [],
   "source": []
  },
  {
   "cell_type": "code",
   "execution_count": null,
   "id": "d1caae4c-bd38-47ee-8ec4-6ed1743b5d5e",
   "metadata": {},
   "outputs": [],
   "source": []
  },
  {
   "cell_type": "code",
   "execution_count": null,
   "id": "58f6acaa-2a9a-46eb-8f0f-0db42632c068",
   "metadata": {},
   "outputs": [],
   "source": []
  },
  {
   "cell_type": "code",
   "execution_count": null,
   "id": "70d647cc-3ec0-4ada-bf54-ae6b242699a6",
   "metadata": {},
   "outputs": [],
   "source": []
  },
  {
   "cell_type": "code",
   "execution_count": null,
   "id": "6cd0253d-3584-493c-a2c0-4fffe9ba5cae",
   "metadata": {},
   "outputs": [],
   "source": []
  },
  {
   "cell_type": "code",
   "execution_count": null,
   "id": "e8bb5902-8916-40f5-83aa-66cc951522f0",
   "metadata": {},
   "outputs": [],
   "source": []
  },
  {
   "cell_type": "code",
   "execution_count": null,
   "id": "d1c00e80-6d6e-46b0-887f-b766a7edb5ea",
   "metadata": {},
   "outputs": [],
   "source": []
  },
  {
   "cell_type": "code",
   "execution_count": null,
   "id": "3aadb6af-00e3-49de-98f8-17531cd6588e",
   "metadata": {},
   "outputs": [],
   "source": []
  }
 ],
 "metadata": {
  "kernelspec": {
   "display_name": "Python 3 (ipykernel)",
   "language": "python",
   "name": "python3"
  },
  "language_info": {
   "codemirror_mode": {
    "name": "ipython",
    "version": 3
   },
   "file_extension": ".py",
   "mimetype": "text/x-python",
   "name": "python",
   "nbconvert_exporter": "python",
   "pygments_lexer": "ipython3",
   "version": "3.12.4"
  }
 },
 "nbformat": 4,
 "nbformat_minor": 5
}
